{
 "cells": [
  {
   "cell_type": "code",
   "execution_count": null,
   "metadata": {},
   "outputs": [],
   "source": [
    "# import des packages\n",
    "install.packages(\"ggplot2\")\n",
    "install.packages(\"readr\")\n",
    "install.packages(\"ggpubr\")\n",
    "library(ggplot2)\n",
    "library(readr)\n",
    "library(ggpubr)"
   ]
  },
  {
   "cell_type": "raw",
   "metadata": {},
   "source": [
    "## 1) Question d'intérêt / énoncé du problème\n",
    "1) Quelle est la durée du combat en MMA ?\n",
    "\n",
    "NOTES :\n",
    "\n",
    "A l'UFC il semble la durée effective de combat ne soit pas la même selon la catégorie\n",
    "Les catégories de poids légères semblent avoir une durée de combat plus longue que les catégories de poids plus lourdes\n",
    "\n",
    "## 2) Les données\n",
    "Les données ont été obtenues grâce au site Tapology. \n",
    "\n",
    "### Visualisation du data frame"
   ]
  },
  {
   "cell_type": "code",
   "execution_count": null,
   "metadata": {},
   "outputs": [],
   "source": [
    "# import des données\n",
    "EBD <- read_csv(\"https://raw.githubusercontent.com/xavierbarbier/MMA/master/EBD.csv\", \n",
    "    col_types = cols(duree = col_time(format = \"%H:%M:%S\")))\n",
    "ggtexttable(head(EBD,10),rows = NULL)"
   ]
  },
  {
   "cell_type": "code",
   "execution_count": null,
   "metadata": {},
   "outputs": [],
   "source": [
    "* Ils y a 83 observations pour lesquelles nous avons les variables suivantes : EDB, durée, résultat et catégorie."
   ]
  },
  {
   "cell_type": "code",
   "execution_count": null,
   "metadata": {},
   "outputs": [],
   "source": [
    "# Recherche des NA\n",
    "sum(is.na(EBD$ebd))\n",
    "sum(is.na(EBD$duree))\n",
    "sum(is.na(EBD$resultat))\n",
    "sum(is.na(EBD$categorie))"
   ]
  },
  {
   "cell_type": "code",
   "execution_count": null,
   "metadata": {},
   "outputs": [],
   "source": [
    "* Il n'y pas de besoins de nettoyage ou de correction des données"
   ]
  },
  {
   "cell_type": "code",
   "execution_count": null,
   "metadata": {},
   "outputs": [],
   "source": [
    "## 3) Visualisation et résumé des données\n",
    "\n",
    "### Analyse de l'ensemble des combats\n",
    "#### Durée moyenne (min)"
   ]
  },
  {
   "cell_type": "code",
   "execution_count": null,
   "metadata": {},
   "outputs": [],
   "source": []
  }
 ],
 "metadata": {
  "kernelspec": {
   "display_name": "R",
   "language": "R",
   "name": "ir"
  },
  "language_info": {
   "codemirror_mode": "r",
   "file_extension": ".r",
   "mimetype": "text/x-r-source",
   "name": "R",
   "pygments_lexer": "r",
   "version": "3.6.2"
  }
 },
 "nbformat": 4,
 "nbformat_minor": 4
}
