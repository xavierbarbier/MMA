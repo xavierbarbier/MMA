{
  "nbformat": 4,
  "nbformat_minor": 0,
  "metadata": {
    "colab": {
      "name": "Untitled",
      "provenance": []
    },
    "kernelspec": {
      "name": "python3",
      "display_name": "Python 3"
    }
  },
  "cells": [
    {
      "cell_type": "markdown",
      "metadata": {
        "id": "vMWpsxJX4jGL",
        "colab_type": "text"
      },
      "source": [
        "#Durée du combat au MMA\n",
        "## Exemple avec l'European Beatdown\n",
        "### Xavier Barbier -  @xavbarbier\n",
        "### Février 2020"
      ]
    },
    {
      "cell_type": "markdown",
      "metadata": {
        "id": "kOOaYIPl3bj3",
        "colab_type": "text"
      },
      "source": [
        "# Import des librairies"
      ]
    },
    {
      "cell_type": "code",
      "metadata": {
        "id": "KPTNO2Ua3S1D",
        "colab_type": "code",
        "colab": {}
      },
      "source": [
        "import numpy as np\n",
        "import pandas as pd\n",
        "import seaborn as sns\n",
        "%matplotlib inline\n",
        "import matplotlib.pyplot as plt\n",
        "plt.style.use('seaborn-whitegrid')"
      ],
      "execution_count": 0,
      "outputs": []
    },
    {
      "cell_type": "markdown",
      "metadata": {
        "id": "TQ4Hm5Rf3ayZ",
        "colab_type": "text"
      },
      "source": [
        "# 1) Question d'intérêt / énoncé du problème\n",
        "\n",
        "1) Quelle est la durée du combat en MMA ?\n",
        "\n",
        "NOTES : \n",
        "\n",
        "*   A l'UFC il semble la durée effective de combat ne soit pas la même selon la catégorie\n",
        "* Les catégories de poids légères semblent avoir une durée de combat plus longue que les catégories de poids plus lourdes\n",
        "\n",
        "\n"
      ]
    },
    {
      "cell_type": "markdown",
      "metadata": {
        "id": "n0dc57kmtmX3",
        "colab_type": "text"
      },
      "source": [
        "# 2) Les données\n",
        "Les données ont été obtenues grâce au site Tapology. \n",
        "\n",
        "> ## a) Visualisation du data frame\n",
        "\n"
      ]
    },
    {
      "cell_type": "code",
      "metadata": {
        "id": "ZG3D1e5ZtvnY",
        "colab_type": "code",
        "colab": {
          "base_uri": "https://localhost:8080/",
          "height": 204
        },
        "outputId": "5cc50d93-2760-4ebb-d7db-d1b160f4172f"
      },
      "source": [
        "url_ebd = \"https://raw.githubusercontent.com/xavierbarbier/MMA/master/EBD.csv\"\n",
        "\n",
        "ebd = pd.read_csv(url_ebd)\n",
        "\n",
        "ebd.head(5)"
      ],
      "execution_count": 33,
      "outputs": [
        {
          "output_type": "execute_result",
          "data": {
            "text/html": [
              "<div>\n",
              "<style scoped>\n",
              "    .dataframe tbody tr th:only-of-type {\n",
              "        vertical-align: middle;\n",
              "    }\n",
              "\n",
              "    .dataframe tbody tr th {\n",
              "        vertical-align: top;\n",
              "    }\n",
              "\n",
              "    .dataframe thead th {\n",
              "        text-align: right;\n",
              "    }\n",
              "</style>\n",
              "<table border=\"1\" class=\"dataframe\">\n",
              "  <thead>\n",
              "    <tr style=\"text-align: right;\">\n",
              "      <th></th>\n",
              "      <th>ebd</th>\n",
              "      <th>duree</th>\n",
              "      <th>resultat</th>\n",
              "      <th>categorie</th>\n",
              "    </tr>\n",
              "  </thead>\n",
              "  <tbody>\n",
              "    <tr>\n",
              "      <th>0</th>\n",
              "      <td>EBD 1</td>\n",
              "      <td>0:15:00</td>\n",
              "      <td>DEC</td>\n",
              "      <td>M155</td>\n",
              "    </tr>\n",
              "    <tr>\n",
              "      <th>1</th>\n",
              "      <td>EBD 1</td>\n",
              "      <td>0:10:00</td>\n",
              "      <td>KO/TKO</td>\n",
              "      <td>M170</td>\n",
              "    </tr>\n",
              "    <tr>\n",
              "      <th>2</th>\n",
              "      <td>EBD 1</td>\n",
              "      <td>0:02:14</td>\n",
              "      <td>KO/TKO</td>\n",
              "      <td>M145</td>\n",
              "    </tr>\n",
              "    <tr>\n",
              "      <th>3</th>\n",
              "      <td>EBD 1</td>\n",
              "      <td>0:15:00</td>\n",
              "      <td>DEC</td>\n",
              "      <td>M155</td>\n",
              "    </tr>\n",
              "    <tr>\n",
              "      <th>4</th>\n",
              "      <td>EBD 1</td>\n",
              "      <td>0:15:00</td>\n",
              "      <td>DEC</td>\n",
              "      <td>M265</td>\n",
              "    </tr>\n",
              "  </tbody>\n",
              "</table>\n",
              "</div>"
            ],
            "text/plain": [
              "     ebd    duree resultat categorie\n",
              "0  EBD 1  0:15:00      DEC      M155\n",
              "1  EBD 1  0:10:00   KO/TKO      M170\n",
              "2  EBD 1  0:02:14   KO/TKO      M145\n",
              "3  EBD 1  0:15:00      DEC      M155\n",
              "4  EBD 1  0:15:00      DEC      M265"
            ]
          },
          "metadata": {
            "tags": []
          },
          "execution_count": 33
        }
      ]
    },
    {
      "cell_type": "markdown",
      "metadata": {
        "id": "geqI3NUluW9f",
        "colab_type": "text"
      },
      "source": [
        "* Il y a 83 observations pour lesquelles nous avons les variables suivantes : EDB, durée, résultat et catégorie."
      ]
    },
    {
      "cell_type": "markdown",
      "metadata": {
        "id": "8eb2lmmruY48",
        "colab_type": "text"
      },
      "source": [
        "\n",
        "\n",
        "> ## b) Recherche des données manquantes\n",
        "\n"
      ]
    },
    {
      "cell_type": "code",
      "metadata": {
        "id": "0eBvgHy8taZh",
        "colab_type": "code",
        "colab": {
          "base_uri": "https://localhost:8080/",
          "height": 173
        },
        "outputId": "966d82a5-ff99-498a-a6ec-2e6f87044861"
      },
      "source": [
        "ebd.describe(include=\"all\")"
      ],
      "execution_count": 25,
      "outputs": [
        {
          "output_type": "execute_result",
          "data": {
            "text/html": [
              "<div>\n",
              "<style scoped>\n",
              "    .dataframe tbody tr th:only-of-type {\n",
              "        vertical-align: middle;\n",
              "    }\n",
              "\n",
              "    .dataframe tbody tr th {\n",
              "        vertical-align: top;\n",
              "    }\n",
              "\n",
              "    .dataframe thead th {\n",
              "        text-align: right;\n",
              "    }\n",
              "</style>\n",
              "<table border=\"1\" class=\"dataframe\">\n",
              "  <thead>\n",
              "    <tr style=\"text-align: right;\">\n",
              "      <th></th>\n",
              "      <th>ebd</th>\n",
              "      <th>duree</th>\n",
              "      <th>resultat</th>\n",
              "      <th>categorie</th>\n",
              "    </tr>\n",
              "  </thead>\n",
              "  <tbody>\n",
              "    <tr>\n",
              "      <th>count</th>\n",
              "      <td>83</td>\n",
              "      <td>83</td>\n",
              "      <td>83</td>\n",
              "      <td>83</td>\n",
              "    </tr>\n",
              "    <tr>\n",
              "      <th>unique</th>\n",
              "      <td>6</td>\n",
              "      <td>56</td>\n",
              "      <td>4</td>\n",
              "      <td>10</td>\n",
              "    </tr>\n",
              "    <tr>\n",
              "      <th>top</th>\n",
              "      <td>EBD 1</td>\n",
              "      <td>15:00</td>\n",
              "      <td>KO/TKO</td>\n",
              "      <td>M155</td>\n",
              "    </tr>\n",
              "    <tr>\n",
              "      <th>freq</th>\n",
              "      <td>17</td>\n",
              "      <td>27</td>\n",
              "      <td>30</td>\n",
              "      <td>21</td>\n",
              "    </tr>\n",
              "  </tbody>\n",
              "</table>\n",
              "</div>"
            ],
            "text/plain": [
              "          ebd  duree resultat categorie\n",
              "count      83     83       83        83\n",
              "unique      6     56        4        10\n",
              "top     EBD 1  15:00   KO/TKO      M155\n",
              "freq       17     27       30        21"
            ]
          },
          "metadata": {
            "tags": []
          },
          "execution_count": 25
        }
      ]
    },
    {
      "cell_type": "markdown",
      "metadata": {
        "id": "RVVL3npdwfAu",
        "colab_type": "text"
      },
      "source": [
        "* Il n'y pas de besoins de nettoyage ou de correction des données"
      ]
    },
    {
      "cell_type": "markdown",
      "metadata": {
        "id": "Z035Hh3Cxi8D",
        "colab_type": "text"
      },
      "source": [
        "# 3) Visualisation et résumé des données\n",
        "\n",
        "\n",
        "> ## a) Analyse de l'ensemble des combats\n",
        "\n",
        "> Durée moyenne (min)\n",
        "\n"
      ]
    },
    {
      "cell_type": "code",
      "metadata": {
        "id": "89_ACDmsxyyH",
        "colab_type": "code",
        "colab": {
          "base_uri": "https://localhost:8080/",
          "height": 34
        },
        "outputId": "6ef4bf7e-4bee-41ad-e1b0-3ccb4a786439"
      },
      "source": [
        "ebd['duree'] = pd.to_timedelta(ebd['duree'])\n",
        "print(np.mean(ebd.duree))"
      ],
      "execution_count": 38,
      "outputs": [
        {
          "output_type": "stream",
          "text": [
            "0 days 00:08:10.819277\n"
          ],
          "name": "stdout"
        }
      ]
    },
    {
      "cell_type": "code",
      "metadata": {
        "id": "t6m4hQkJ4uQz",
        "colab_type": "code",
        "colab": {
          "base_uri": "https://localhost:8080/",
          "height": 221
        },
        "outputId": "d5b69b8b-74ff-4e14-9903-246dd44cc69c"
      },
      "source": [
        "ebd.duree"
      ],
      "execution_count": 41,
      "outputs": [
        {
          "output_type": "execute_result",
          "data": {
            "text/plain": [
              "62   00:00:16\n",
              "49   00:00:19\n",
              "50   00:00:20\n",
              "48   00:00:37\n",
              "37   00:00:55\n",
              "       ...   \n",
              "46   00:15:00\n",
              "54   00:15:00\n",
              "56   00:15:00\n",
              "60   00:15:00\n",
              "41   00:15:00\n",
              "Name: duree, Length: 83, dtype: timedelta64[ns]"
            ]
          },
          "metadata": {
            "tags": []
          },
          "execution_count": 41
        }
      ]
    },
    {
      "cell_type": "code",
      "metadata": {
        "id": "IXHKIZmQ4fNq",
        "colab_type": "code",
        "colab": {}
      },
      "source": [
        "ebd.sort_values([\"duree\"], axis=0, ascending=True, inplace=True) "
      ],
      "execution_count": 0,
      "outputs": []
    },
    {
      "cell_type": "code",
      "metadata": {
        "id": "h7xfrs9m67-1",
        "colab_type": "code",
        "colab": {
          "base_uri": "https://localhost:8080/",
          "height": 308
        },
        "outputId": "5ccec938-f121-45ad-f094-772e8188d4d8"
      },
      "source": [
        "sns.distplot(ebd.duree, kde=False, rug=True,bins=20)\n",
        "plt.xlabel('Durée du combat (min)')\n",
        "plt.ylabel('Fréquence')\n",
        "plt.title('Distribution de la durée du combat')"
      ],
      "execution_count": 53,
      "outputs": [
        {
          "output_type": "execute_result",
          "data": {
            "text/plain": [
              "Text(0.5, 1.0, 'Distribution de la durée du combat')"
            ]
          },
          "metadata": {
            "tags": []
          },
          "execution_count": 53
        },
        {
          "output_type": "display_data",
          "data": {
            "image/png": "[encoded data removed]",
            "text/plain": [
              "<Figure size 432x288 with 1 Axes>"
            ]
          },
          "metadata": {
            "tags": []
          }
        }
      ]
    }
  ]
}